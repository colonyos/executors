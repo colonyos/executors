{
 "cells": [
  {
   "cell_type": "code",
   "execution_count": 1,
   "id": "925b5f58-8087-4307-9c3a-62e41b30bd64",
   "metadata": {},
   "outputs": [
    {
     "ename": "SyntaxError",
     "evalue": "invalid character in identifier (2524611014.py, line 1)",
     "output_type": "error",
     "traceback": [
      "\u001b[0;36m  Cell \u001b[0;32mIn[1], line 1\u001b[0;36m\u001b[0m\n\u001b[0;31m    from collections import OrderedDict                                                                                                                               │cp ./bin/colonies /usr/local/bin\u001b[0m\n\u001b[0m                                                                                                                                                                        ^\u001b[0m\n\u001b[0;31mSyntaxError\u001b[0m\u001b[0;31m:\u001b[0m invalid character in identifier\n"
     ]
    }
   ],
   "source": [
    "from collections import OrderedDict                                                                                                                               │cp ./bin/colonies /usr/local/bin\n",
    "from sentinelsat import SentinelAPI                                                                                                                               │cp ./lib/libcryptolib.so /usr/local/lib\n",
    "from datetime import datetime                                                                                                                                     │rocinante (colonies) ^(* main ) >>> make; sudo make install                                                                                                       22:03:08\n",
    "from datetime import date                                                                                                                                         │cp ./bin/colonies /usr/local/bin\n",
    "import json                                                                                                                                                       │cp ./lib/libcryptolib.so /usr/local/lib\n",
    "                                                                                                                                                                  │rocinante (colonies) ^(* main ) >>>                                                                                                                               22:03:56\n",
    "api = SentinelAPI('johankristiansson', 'p3btgTwM')                                                                                                                ├──────────────────────────────────────────────────────────────────────────────────────────────────────────────────────────────────────────────────────────────────────────\n",
    "                                                                                                                                                                  │        modified:   examples/helloworld.json\n",
    "def json_serial(obj):                                                                                                                                             │        modified:   examples/src/helloworld.py\n",
    "    \"\"\"JSON serializer for objects not serializable by default json code\"\"\"                                                                                       │        modified:   examples/sync.sh\n",
    "                                                                                                                                                                  │        modified:   go.mod\n",
    "    if isinstance(obj, (datetime, date)):                                                                                                                         │        modified:   go.sum\n",
    "        return obj.isoformat()                                                                                                                                    │        modified:   pkg/executor/executor.go\n",
    "    raise TypeError (\"Type %s not serializable\" % type(obj))                                                                                                      │\n",
    "                                                                    "
   ]
  },
  {
   "cell_type": "code",
   "execution_count": null,
   "id": "1f9623fa-8de6-4b08-a999-3d87dbc5b0f4",
   "metadata": {},
   "outputs": [],
   "source": []
  }
 ],
 "metadata": {
  "kernelspec": {
   "display_name": "Python 3 (ipykernel)",
   "language": "python",
   "name": "python3"
  },
  "language_info": {
   "codemirror_mode": {
    "name": "ipython",
    "version": 3
   },
   "file_extension": ".py",
   "mimetype": "text/x-python",
   "name": "python",
   "nbconvert_exporter": "python",
   "pygments_lexer": "ipython3",
   "version": "3.8.10"
  }
 },
 "nbformat": 4,
 "nbformat_minor": 5
}
